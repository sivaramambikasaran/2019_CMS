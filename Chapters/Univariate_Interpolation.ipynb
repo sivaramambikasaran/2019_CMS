{
 "cells": [
  {
   "cell_type": "markdown",
   "metadata": {},
   "source": [
    "$\\newcommand{\\bkt}[1]{\\left(#1\\right)}$\n",
    "$\\newcommand{\\dsum}[1]{\\displaystyle\\sum}$\n",
    "$\\newcommand{\\spade}{\\bkt{\\spadesuit}}$\n",
    "$\\newcommand{\\club}{\\bkt{\\clubsuit}}$\n",
    "\n",
    "Polynomial Interpolation\n",
    "==\n",
    "\n",
    "1.1 **Introduction**\n",
    "\n",
    "Given the values of a function $f(x)$ at $n+1$ distinct locations of $x$, say $\\{x_i\\}_{i=0}^n$, we could approximate $f$ by a polynomial function $p_n(x)$ of degree $n$ that satisfies\n",
    "\n",
    "$$p_n\\bkt{x_i} = f\\bkt{x_i}$$\n",
    "\n",
    "We can construct the polynomial $p_n(x)$ as $p_n(x) = a_0 + a_1 x + a_2 x^2 + \\cdots + a_n x^n$. The $n+1$ coefficients are determined by forcing $p_n(x)$ to pass through the data points. This leads to $n+1$ equations in $n+1$ unknowns, $a_0,a_1,\\ldots,a_n$, i.e.,\n",
    "$$y_i = a_0 + a_1 x_i + a_2 x_i^2 + \\cdots + a_n x_i^n$$\n",
    "for $i \\in \\{0,1,2,\\ldots,n\\}$. This procedure for finding the coefficients of the polynomial is not very attractive. It involves solving a linear system, whose matrix is extremely ill-conditioned. See below."
   ]
  },
  {
   "cell_type": "code",
   "execution_count": 2,
   "metadata": {},
   "outputs": [
    {
     "ename": "ModuleNotFoundError",
     "evalue": "No module named 'scipy'",
     "output_type": "error",
     "traceback": [
      "\u001b[0;31m---------------------------------------------------------------------------\u001b[0m",
      "\u001b[0;31mModuleNotFoundError\u001b[0m                       Traceback (most recent call last)",
      "\u001b[0;32m<ipython-input-2-612119fc2970>\u001b[0m in \u001b[0;36m<module>\u001b[0;34m\u001b[0m\n\u001b[0;32m----> 1\u001b[0;31m \u001b[0;32mimport\u001b[0m \u001b[0mscipy\u001b[0m \u001b[0;32mas\u001b[0m \u001b[0msp\u001b[0m\u001b[0;34m;\u001b[0m\u001b[0;34m\u001b[0m\u001b[0m\n\u001b[0m\u001b[1;32m      2\u001b[0m \u001b[0;32mimport\u001b[0m \u001b[0mnumpy\u001b[0m \u001b[0;32mas\u001b[0m \u001b[0mnp\u001b[0m\u001b[0;34m;\u001b[0m\u001b[0;34m\u001b[0m\u001b[0m\n\u001b[1;32m      3\u001b[0m \u001b[0;34m\u001b[0m\u001b[0m\n\u001b[1;32m      4\u001b[0m \u001b[0;32mfrom\u001b[0m \u001b[0mscipy\u001b[0m\u001b[0;34m.\u001b[0m\u001b[0mstats\u001b[0m \u001b[0;32mimport\u001b[0m \u001b[0mbinom\u001b[0m\u001b[0;34m;\u001b[0m\u001b[0;34m\u001b[0m\u001b[0m\n\u001b[1;32m      5\u001b[0m \u001b[0;32mimport\u001b[0m \u001b[0mmatplotlib\u001b[0m\u001b[0;34m.\u001b[0m\u001b[0mpylab\u001b[0m \u001b[0;32mas\u001b[0m \u001b[0mpl\u001b[0m\u001b[0;34m;\u001b[0m\u001b[0;34m\u001b[0m\u001b[0m\n",
      "\u001b[0;31mModuleNotFoundError\u001b[0m: No module named 'scipy'"
     ]
    }
   ],
   "source": [
    "import scipy as sp;\n",
    "import numpy as np;\n",
    "\n",
    "from scipy.stats import binom;\n",
    "import matplotlib.pylab as pl;\n",
    "from scipy import linalg\n",
    "from numpy import linalg\n",
    "from ipywidgets import interact;"
   ]
  },
  {
   "cell_type": "code",
   "execution_count": 3,
   "metadata": {},
   "outputs": [
    {
     "ename": "NameError",
     "evalue": "name 'np' is not defined",
     "output_type": "error",
     "traceback": [
      "\u001b[0;31m---------------------------------------------------------------------------\u001b[0m",
      "\u001b[0;31mNameError\u001b[0m                                 Traceback (most recent call last)",
      "\u001b[0;32m<ipython-input-3-7d5288be0820>\u001b[0m in \u001b[0;36m<module>\u001b[0;34m\u001b[0m\n\u001b[1;32m      1\u001b[0m \u001b[0mNmax\u001b[0m \u001b[0;34m=\u001b[0m \u001b[0;36m41\u001b[0m\u001b[0;34m;\u001b[0m\u001b[0;34m\u001b[0m\u001b[0m\n\u001b[0;32m----> 2\u001b[0;31m \u001b[0mN\u001b[0m \u001b[0;34m=\u001b[0m \u001b[0mnp\u001b[0m\u001b[0;34m.\u001b[0m\u001b[0marange\u001b[0m\u001b[0;34m(\u001b[0m\u001b[0;36m2\u001b[0m\u001b[0;34m,\u001b[0m\u001b[0mNmax\u001b[0m\u001b[0;34m)\u001b[0m\u001b[0;34m;\u001b[0m\u001b[0;34m\u001b[0m\u001b[0m\n\u001b[0m\u001b[1;32m      3\u001b[0m \u001b[0mc\u001b[0m \u001b[0;34m=\u001b[0m \u001b[0mnp\u001b[0m\u001b[0;34m.\u001b[0m\u001b[0mzeros\u001b[0m\u001b[0;34m(\u001b[0m\u001b[0mNmax\u001b[0m\u001b[0;34m-\u001b[0m\u001b[0;36m2\u001b[0m\u001b[0;34m)\u001b[0m\u001b[0;34m;\u001b[0m\u001b[0;34m\u001b[0m\u001b[0m\n\u001b[1;32m      4\u001b[0m \u001b[0;32mfor\u001b[0m \u001b[0mn\u001b[0m \u001b[0;32min\u001b[0m \u001b[0mN\u001b[0m\u001b[0;34m:\u001b[0m\u001b[0;34m\u001b[0m\u001b[0m\n\u001b[1;32m      5\u001b[0m     \u001b[0mx\u001b[0m \u001b[0;34m=\u001b[0m \u001b[0mnp\u001b[0m\u001b[0;34m.\u001b[0m\u001b[0mlinspace\u001b[0m\u001b[0;34m(\u001b[0m\u001b[0;34m-\u001b[0m\u001b[0;36m1\u001b[0m\u001b[0;34m,\u001b[0m\u001b[0;36m1\u001b[0m\u001b[0;34m,\u001b[0m\u001b[0mn\u001b[0m\u001b[0;34m)\u001b[0m\u001b[0;34m;\u001b[0m\u001b[0;34m\u001b[0m\u001b[0m\n",
      "\u001b[0;31mNameError\u001b[0m: name 'np' is not defined"
     ]
    }
   ],
   "source": [
    "Nmax = 41;\n",
    "N = np.arange(2,Nmax);\n",
    "c = np.zeros(Nmax-2);\n",
    "for n in N:\n",
    "    x = np.linspace(-1,1,n);\n",
    "    V = np.vander(x,increasing=\"True\");\n",
    "    c[n-2] = np.linalg.cond(V);\n",
    "\n",
    "pl.semilogy(N,c,'k-+');"
   ]
  },
  {
   "cell_type": "markdown",
   "metadata": {},
   "source": [
    "A better way to go about interpolating with polynomials is via Lagrange interpolation. Define the Lagrange polynomial $L_i(x)$ to be $1$ when $x=x_i$ and is zero at all the other nodes, i.e.,\n",
    "$$L_i\\bkt{x_j} = \\delta_{ij}$$\n",
    "We then have\n",
    "$$p_n(x) = \\sum_{i=0}^n f_i L_i(x)$$\n",
    "Since we want $L_i(x)$ to vanish at all $x_j$, where $j \\neq i$, we have $L_i(x) = c_i \\prod_{j \\neq i}\\bkt{x-x_j}$. Further, since $L_i\\bkt{x_i} = 1$, we get that $c = \\dfrac1{\\prod_{j \\neq i} \\bkt{x_i-x_j}}$. Hence, we see that\n",
    "$$L_i\\bkt{x} = \\prod_{j \\neq i} \\bkt{\\dfrac{x-x_j}{x_i-x_j}}$$\n",
    "If we call $l_i(x) = \\prod_{j \\neq i} \\bkt{x-x_j}$ and $w_i = \\prod_{j \\neq i} \\bkt{\\dfrac1{x_i-x_j}}$, we see that $L_i(x) = w_i l_i(x)$.\n",
    "\n",
    "Further, if we set $l(x) = \\prod_{j=0}^n \\bkt{x-x_j}$, we see that $l_i(x) = \\dfrac{l(x)}{x-x_i}$, and hence $L_i(x) = \\dfrac{w_il(x)}{x-x_i}$ and hence we see that\n",
    "\\begin{align}\n",
    "p_n(x) = l(x) \\bkt{\\sum_{i=0}^n \\dfrac{w_i f_i}{x-x_i}} \\,\\,\\, \\spade\n",
    "\\end{align}\n",
    "Note that $\\spade$ is an attractive way to compute the Lagrange interpolant. It requires $\\mathcal{O}\\bkt{n^2}$ work to calculate $w_i$'s, followed by $\\mathcal{O}(n)$ work to compute the interpolant for each $x$. This is called as the ***first form of Barycentric interpolation***.\n",
    "\n",
    "What about updating when a new interpolation node $x_{n+1}$ is added? There are only two steps involved.\n",
    "\n",
    "- For $i \\in\\{0,1,\\ldots,n\\}$, divide each $w_i$ by $\\bkt{x_i-x_{n+1}}$. Cost is $n+1$ flops.\n",
    "- Compute $w_{n+1}$ for another $n+1$ flops.\n",
    "\n",
    "Hence, we see that the Lagrange interpolant can also be updated at $\\mathcal{O}(n)$ flops.\n",
    "\n",
    "The above barycentric formula can be made even more elegant in practice. Note that the function $1$ gets interpolated by any polynomial exactly. Hence, we see that\n",
    "$$1 = l(x) \\bkt{\\sum_{i=0}^n \\dfrac{w_i}{x-x_i}}$$\n",
    "which gives us that\n",
    "$$l(x) = \\dfrac1{\\bkt{\\displaystyle\\sum_{i=0}^n \\dfrac{w_i}{x-x_i}}}$$\n",
    "Hence, we obtain the ***second form of Barycentric interpolation***\n",
    "\\begin{align}\n",
    "p_n(x) = \\dfrac{\\bkt{\\displaystyle\\sum_{i=0}^n \\dfrac{w_i f_i}{x-x_i}}}{\\bkt{\\displaystyle\\sum_{i=0}^n \\dfrac{w_i}{x-x_i}}} \\,\\,\\, \\club\n",
    "\\end{align}\n",
    "Again note that it is fairly easy to incorporate a new intepolation node at a cost of $\\mathcal{O}(n)$. Below is the Lagrange interpolation using the original form."
   ]
  },
  {
   "cell_type": "code",
   "execution_count": 7,
   "metadata": {},
   "outputs": [
    {
     "name": "stdout",
     "output_type": "stream",
     "text": [
      "0.43835262054180296\n"
     ]
    },
    {
     "data": {
      "image/png": "[encoded data removed]",
      "text/plain": [
       "<Figure size 1152x288 with 1 Axes>"
      ]
     },
     "metadata": {
      "needs_background": "light"
     },
     "output_type": "display_data"
    }
   ],
   "source": [
    "def function(x):\n",
    "#     f = np.abs(x)+x/2-x**2;\n",
    "    f = 1.0/(1+25*x*x);\n",
    "#     f = np.abs(x+0.3) + np.abs(x-0.2) +  + np.abs(x*x*x*x-0.8);\n",
    "    return f;\n",
    "\n",
    "def Lagrange(xnodes,x,i):\n",
    "    f = 1;\n",
    "    nnodes = np.size(xnodes);\n",
    "    for j in range(0,i):\n",
    "        f = f*(x-xnodes[j])/(xnodes[i]-xnodes[j]);\n",
    "    for j in range(i+1,nnodes):\n",
    "        f = f*(x-xnodes[j])/(xnodes[i]-xnodes[j]);\n",
    "    return f;\n",
    "    \n",
    "def Chebyshev(nnodes,xplot):\n",
    "    # Chebyshev node interpolation\n",
    "    xnodes    = np.cos(np.arange(0,nnodes)*np.pi/(nnodes-1));\n",
    "    fnodes     = function(xnodes);\n",
    "    fplot        = 0;\n",
    "    for i in range(0,nnodes):\n",
    "        fplot = fplot + fnodes[i]*Lagrange(xnodes,xplot,i);\n",
    "    return xnodes, fnodes, fplot;\n",
    "\n",
    "def Uniform(nnodes,xplot):\n",
    "    # Uniform node interpolation\n",
    "    xnodes    = np.linspace(-1,1,nnodes);\n",
    "    fnodes     = function(xnodes);\n",
    "    fplot        = 0;\n",
    "    for i in range(0,nnodes):\n",
    "        fplot = fplot + fnodes[i]*Lagrange(xnodes,xplot,i);\n",
    "    return xnodes, fnodes, fplot;\n",
    "\n",
    "def Bernstein(n,xplot):\n",
    "    xnodes = np.linspace(-1,1,nnodes);\n",
    "    fnodes  = function(xnodes);\n",
    "    fplot = 0;\n",
    "    for i in range(0,nnodes):\n",
    "        fplot = fplot + sp.stats.binom.pmf(i,nnodes-1,0.5+0.5*xplot)*function(xnodes[i]);\n",
    "    return fplot;\n",
    "        \n",
    "nplot       = 1001;\n",
    "xplot       = np.linspace(-1,1,nplot);\n",
    "f_actual   = function(xplot);\n",
    "nnodes    = 5;\n",
    "# xnodes, fnodes, fplot = Chebyshev(nnodes,xplot);\n",
    "xnodes, fnodes, fplot = Uniform(nnodes,xplot);\n",
    "# fplot        = Bernstein(nnodes,xplot);\n",
    "\n",
    "error       = f_actual-fplot;\n",
    "print(np.amax(np.abs(error)))\n",
    "pl.plot(xplot,f_actual,'-');\n",
    "pl.plot(xplot,fplot,'r');\n",
    "pl.rcParams[\"figure.figsize\"] = [16,4];"
   ]
  },
  {
   "cell_type": "code",
   "execution_count": null,
   "metadata": {},
   "outputs": [],
   "source": []
  }
 ],
 "metadata": {
  "kernelspec": {
   "display_name": "Python 3",
   "language": "python",
   "name": "python3"
  },
  "language_info": {
   "codemirror_mode": {
    "name": "ipython",
    "version": 3
   },
   "file_extension": ".py",
   "mimetype": "text/x-python",
   "name": "python",
   "nbconvert_exporter": "python",
   "pygments_lexer": "ipython3",
   "version": "3.6.5"
  }
 },
 "nbformat": 4,
 "nbformat_minor": 2
}
