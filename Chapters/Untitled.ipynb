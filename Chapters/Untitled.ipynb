{
 "cells": [
  {
   "cell_type": "code",
   "execution_count": null,
   "metadata": {},
   "outputs": [],
   "source": [
    "1+1"
   ]
  },
  {
   "cell_type": "code",
   "execution_count": 2,
   "metadata": {},
   "outputs": [],
   "source": [
    "% n is the number of sides of a dice\n",
    "function [outcome] = roll_die(n,m)\n",
    "    outcome = randi(n,m);\n",
    "end"
   ]
  },
  {
   "cell_type": "code",
   "execution_count": 3,
   "metadata": {},
   "outputs": [],
   "source": [
    "% n is the number of sides of a dice\n",
    "% m is the number of times we are rolling the dice\n",
    "function [outcomes] = roll_dice(n,m)\n",
    "    outcomes = zeros(m,1);\n",
    "    for i=1:m\n",
    "        outcomes(i) = roll_die(n);\n",
    "    end\n",
    "end"
   ]
  },
  {
   "cell_type": "code",
   "execution_count": 14,
   "metadata": {},
   "outputs": [
    {
     "name": "stdout",
     "output_type": "stream",
     "text": [
      "ans =\n",
      "\n",
      "   6\n",
      "   5\n",
      "   4\n",
      "   1\n",
      "   6\n",
      "\n"
     ]
    }
   ],
   "source": [
    "roll_dice(6,5)"
   ]
  },
  {
   "cell_type": "code",
   "execution_count": 3,
   "metadata": {},
   "outputs": [],
   "source": [
    "% x is the sequence I need\n",
    "% n_times is the number of times, I am conducting the experiment\n",
    "% n_rolls is the length of the sequence, I am after\n",
    "% n is the number of sides of a dice\n",
    "function [probability] = desired_outcome(x, n_times, n)\n",
    "    n_rolls = length(x);\n",
    "    count = 0;\n",
    "    outcomes = randi(n,n_rolls,n_times);\n",
    "    for i=1:n_times\n",
    "        if (outcomes(:,i) == x)\n",
    "            count =count+1;\n",
    "        end\n",
    "    end\n",
    "    probability = count/n_times;\n",
    "end"
   ]
  },
  {
   "cell_type": "code",
   "execution_count": 5,
   "metadata": {},
   "outputs": [
    {
     "name": "stdout",
     "output_type": "stream",
     "text": [
      "probability = 0\n"
     ]
    }
   ],
   "source": [
    "probability = desired_outcome([1,1,1,1,1], 1000, 6)"
   ]
  },
  {
   "cell_type": "code",
   "execution_count": 17,
   "metadata": {},
   "outputs": [
    {
     "name": "stdout",
     "output_type": "stream",
     "text": [
      "ans =  2\n"
     ]
    }
   ],
   "source": [
    "roll_die(6,5)"
   ]
  },
  {
   "cell_type": "code",
   "execution_count": null,
   "metadata": {},
   "outputs": [],
   "source": []
  }
 ],
 "metadata": {
  "kernelspec": {
   "display_name": "Octave",
   "language": "octave",
   "name": "octave"
  },
  "language_info": {
   "file_extension": ".m",
   "help_links": [
    {
     "text": "GNU Octave",
     "url": "https://www.gnu.org/software/octave/support.html"
    },
    {
     "text": "Octave Kernel",
     "url": "https://github.com/Calysto/octave_kernel"
    },
    {
     "text": "MetaKernel Magics",
     "url": "https://github.com/calysto/metakernel/blob/master/metakernel/magics/README.md"
    }
   ],
   "mimetype": "text/x-octave",
   "name": "octave",
   "version": "4.2.1"
  }
 },
 "nbformat": 4,
 "nbformat_minor": 2
}
