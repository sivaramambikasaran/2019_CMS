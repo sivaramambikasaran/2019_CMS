{
 "cells": [
  {
   "cell_type": "markdown",
   "metadata": {},
   "source": [
    "$\\newcommand{\\bkt}[1]{\\left( #1 \\right)}$\n",
    "\n",
    "# Initial Value Problems\n",
    "\n",
    "Consider the first-order ordinary differential equation of the form\n",
    "\n",
    "$$\\dfrac{dy}{dt} = f\\bkt{y,t} \\,\\,\\,\\,\\, y(0) = y_0$$\n",
    "\n",
    "We would like to find $y(t)$. The aim of all numerical methods for solution of this differential equation is to obtain the solution at time $t_{n+1}=t_n + \\Delta t$, given the solution for $0 \\leq t \\leq t_n$. This process, of course, continues; i.e., once $y_{n+1} = y \\bkt{t_{n+1}}$ is obtained, then $y_{n+2}$ and so on.\n",
    "\n",
    "We begin by considering the Taylor series based methods. Let's expand the solution at $t_{n+1}$ about the solution at $t_n$\n",
    "\n",
    "$$y_{n+1} = y_n + h y_n' + \\dfrac{h^2}2 y_n'' + \\dfrac{h^3}{6} y_n''' + \\cdots$$\n",
    "where $h=\\Delta t$. From the differential equation, we have\n",
    "\n",
    "$$y_n' = f\\bkt{y_n,t_n}$$\n",
    "\n",
    "which can be substituted in the second term. We can, in principle drop the higher order terms and get a second order approximation to $y_{n+1}$ using $y_n$. We can get higher order approximations to $y_{n+1}$ by making use of the fact that\n",
    "$$y_n'' = \\dfrac{df}{dt} = \\dfrac{\\partial f}{\\partial t} + \\dfrac{\\partial f}{\\partial y} \\dfrac{dy}{dt} = f_t + ff_y$$"
   ]
  },
  {
   "cell_type": "markdown",
   "metadata": {},
   "source": [
    "# Euler Method\n",
    "\n",
    "$$y_{n+1} = y_n + h f\\bkt{y_n,t_n}$$\n",
    "\n",
    "Locally, this method is $\\mathcal{O}\\bkt{\\bkt{\\Delta t}^2}$. Globally, it is $\\mathcal{O}\\bkt{\\Delta t}$. This is a single step method, i.e., $y_{n+1}$ only depends on $y_n$. In contrast, multistep methods are where $y_{n+1}$ depends on $y_n,y_{n-1}$ and so on.\n",
    "\n",
    "Further, this is an *explicit method*, i.e., the function $f$ only needs to be evaluated at already known values, i.e., at $y_n,y_{n-1},\\ldots$. In contrast, implicit methods are those, where the function $f$ gets evaluated at $y_{n+1}$.\n",
    "\n",
    "We will look at multi-step methods and the difference between explicit and implicit methods."
   ]
  },
  {
   "cell_type": "markdown",
   "metadata": {},
   "source": [
    "# Numerical Stability\n",
    "\n",
    "It is quite possible that the numerical solution grows unbounded even thought the solution to the underlying differential equation is bounded and well behaved. In the case of stability, we look for constraints in our parameters for which given that the exact solution to the underlying differential equation is bounded, the numerical solution also remains bounded.\n",
    "\n",
    "Three classes of numerical methods:\n",
    "\n",
    "*Unstable numerical schemes*: Numerical solution blows up with any choice of time stepping. Clearly, these are useless.\n",
    "\n",
    "*Conditionally stable numerical schemes*: For certain choice of time stepping, numerical solution remains bounded.\n",
    "\n",
    "*Unconditionally stable numerical schemes*: For any choice of time stepping, numerical solution remains bounded.\n",
    "\n",
    "# Linear stability analysis\n",
    "\n",
    "Expanding $f(y,t)$ about $y_0,t_0$, we have\n",
    "$$f(y,t) = f(y_0,t_0) + \\bkt{t-t_0} \\dfrac{\\partial f}{\\partial t} + \\bkt{y-y_0} \\dfrac{\\partial f}{\\partial y} + \\cdots$$\n",
    "\n",
    "For the solution to be bounded, we see that only the linear term in $y$ is the most important term to study. Hence, we will be looking at the model problem $y' = \\lambda y$. Note that any linear second order differential equation can also be converted into a first order linear equation. For instance,\n",
    "$$y'' + by' + c y = 0$$ can be rewritten as follows. Let\n",
    "$$z = \\begin{bmatrix} y\\\\ y' \\end{bmatrix}$$\n",
    "Then\n",
    "$$z' = \\begin{bmatrix} y'\\\\ y'' \\end{bmatrix} = \\begin{bmatrix}0 & 1\\\\-c & -b\\end{bmatrix}\\begin{bmatrix}y\\\\y' \\end{bmatrix} = A z$$\n",
    "Assuming $A$ is diagonalizable, we see that $A = S \\Lambda S^{-1}$, this gives us\n",
    "$$\\bkt{S^{-1}z}' = \\Lambda \\bkt{S^{-1}z}$$\n",
    "where $\\Lambda$ is a diagonal matrix. If $b=0$ and $c=\\omega^2$, we have a harmonic oscillator, and the eigenvalues are $\\pm i \\omega$.\n",
    "\n",
    "Hence, for the sake of analyzing stability, we will be looking at the model problem of the form\n",
    "$$y' = \\lambda y$$\n",
    "where $\\text{Real}\\bkt{\\lambda} \\leq 0$."
   ]
  },
  {
   "cell_type": "code",
   "execution_count": 40,
   "metadata": {},
   "outputs": [
    {
     "data": {
      "image/png": "[encoded data removed]",
      "text/plain": [
       "<Figure size 432x288 with 1 Axes>"
      ]
     },
     "metadata": {
      "needs_background": "light"
     },
     "output_type": "display_data"
    }
   ],
   "source": [
    "import numpy as np;\n",
    "# Solve y'+lambda y = 0 with y(0) = 1 till solution decays to 1e-10;\n",
    "L = 1;\n",
    "y_init = 1;\n",
    "t = [0];\n",
    "y_e = [y_init];\n",
    "y_i = [y_init];\n",
    "y_exact= [y_init];\n",
    "tol = 1e-10;\n",
    "dt = 2.5;\n",
    "max_t = 10;\n",
    "while (t[-1]<max_t):\n",
    "    t.append(t[-1]+dt);\n",
    "    y_next = y_e[-1]-L*y_e[-1]*dt;\n",
    "    y_e.append(y_next);\n",
    "    y_i.append(y_i[-1]/(1+L*dt));\n",
    "    y_exact.append(y_init*np.exp(-L*t[-1]))\n",
    "import matplotlib.pyplot as plt;\n",
    "plt.plot(t,y_e,'r');\n",
    "plt.plot(t,y_i,'g');\n",
    "plt.plot(t,y_exact,'k');\n",
    "plt.show();"
   ]
  }
 ],
 "metadata": {
  "kernelspec": {
   "display_name": "Python 3",
   "language": "python",
   "name": "python3"
  },
  "language_info": {
   "codemirror_mode": {
    "name": "ipython",
    "version": 3
   },
   "file_extension": ".py",
   "mimetype": "text/x-python",
   "name": "python",
   "nbconvert_exporter": "python",
   "pygments_lexer": "ipython3",
   "version": "3.6.6"
  }
 },
 "nbformat": 4,
 "nbformat_minor": 2
}
