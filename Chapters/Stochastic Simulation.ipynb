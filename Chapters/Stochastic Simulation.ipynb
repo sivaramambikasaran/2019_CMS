{
 "cells": [
  {
   "cell_type": "markdown",
   "metadata": {},
   "source": [
    "# Stochastic simulation and Random walks\n",
    "\n",
    "Real world may or may not be inherently predictable but our lack of knowledge doesn't allow us to make accurate predictions. Therefore for all practical purposes, we might as well treat the world as inherently unpredictable. The natural question is that then why do we have so many physical laws and rules? The reason is that even though the world might be unpredictable there are few quantities and things that are more or less predictable with reasonable accuracy, since these are quantities that get averaged over long time or large space.\n",
    "\n",
    "Let us look at rolling a die for instance. I roll a die five times, what is the probability of getting a sequence of five ones, i.e., $11111$."
   ]
  },
  {
   "cell_type": "code",
   "execution_count": 7,
   "metadata": {},
   "outputs": [],
   "source": [
    "## Generate a sequence of $n$ die rolls\n",
    "import numpy as np;\n",
    "import random;\n",
    "\n",
    "def rollDie():\n",
    "    '''Returns a random number in the range [1,2,3,4,5,6]'''\n",
    "    return random.choice([1,2,3,4,5,6]);\n",
    "\n",
    "def testRoll(n = 10):\n",
    "    result = ''\n",
    "    for i in range(n):\n",
    "        result = result + str(rollDie())\n",
    "    print(result)"
   ]
  },
  {
   "cell_type": "code",
   "execution_count": 9,
   "metadata": {},
   "outputs": [
    {
     "name": "stdout",
     "output_type": "stream",
     "text": [
      "15565\n"
     ]
    }
   ],
   "source": [
    "testRoll(5)"
   ]
  },
  {
   "cell_type": "code",
   "execution_count": 10,
   "metadata": {},
   "outputs": [],
   "source": [
    "## Simulate number of times to compute the probability of our goal\n",
    "def runSim(goal, numTrials):\n",
    "    total = 0\n",
    "    for i in range(numTrials):\n",
    "        result = ''\n",
    "        for j in range(len(goal)):\n",
    "            result += str(rollDie())\n",
    "        if result == goal:\n",
    "            total += 1\n",
    "    print('Actual probability of', goal, '=',\n",
    "          round(1/(6**len(goal)), 8)) \n",
    "    estProbability = round(total/numTrials, 8)\n",
    "    print('Estimated Probability of', goal, '=',\n",
    "          round(estProbability, 8))"
   ]
  },
  {
   "cell_type": "code",
   "execution_count": 16,
   "metadata": {},
   "outputs": [
    {
     "name": "stdout",
     "output_type": "stream",
     "text": [
      "Actual probability of 11111 = 0.0001286\n",
      "Estimated Probability of 11111 = 0.0\n"
     ]
    }
   ],
   "source": [
    "runSim('11111', 1000)"
   ]
  },
  {
   "cell_type": "markdown",
   "metadata": {},
   "source": [
    "## Birthday problem\n",
    "\n",
    "What is the probability that in our class two people share the same birthday?"
   ]
  },
  {
   "cell_type": "code",
   "execution_count": 23,
   "metadata": {},
   "outputs": [
    {
     "name": "stdout",
     "output_type": "stream",
     "text": [
      "For 10 est. prob. of a shared birthday is 0.1126\n",
      "Actual prob. for N = 10  is:  0.1407807830661857\n",
      "For 20 est. prob. of a shared birthday is 0.4178\n",
      "Actual prob. for N = 20  is:  0.442778946505625\n",
      "For 40 est. prob. of a shared birthday is 0.8924\n",
      "Actual prob. for N = 40  is:  0.9025070829944282\n",
      "For 100 est. prob. of a shared birthday is 1.0\n",
      "Actual prob. for N = 100  is:  0.9999997662948502\n"
     ]
    }
   ],
   "source": [
    "def sameDate(numPeople, numSame):\n",
    "    possibleDates = range(365)\n",
    "    birthdays = [0]*365\n",
    "    for p in range(numPeople):\n",
    "        birthDate = random.choice(possibleDates)\n",
    "        birthdays[birthDate] += 1\n",
    "    return max(birthdays) >= numSame\n",
    "\n",
    "def birthdayProb(numPeople, numSame, numTrials):\n",
    "    numHits = 0\n",
    "    for t in range(numTrials):\n",
    "        if sameDate(numPeople, numSame):\n",
    "            numHits += 1\n",
    "    return numHits/numTrials\n",
    "\n",
    "import math\n",
    "\n",
    "for numPeople in [10, 20, 40, 100]:\n",
    "    print('For', numPeople,\n",
    "          'est. prob. of a shared birthday is',\n",
    "          birthdayProb(numPeople, 2, 10000))\n",
    "    numerator = math.factorial(365)\n",
    "    denom = (366**numPeople)*math.factorial(365-numPeople)\n",
    "    print('Actual prob. for N =', numPeople, ' is: ',\n",
    "          1 - numerator/denom)"
   ]
  },
  {
   "cell_type": "markdown",
   "metadata": {},
   "source": [
    "Stochastic simulations can also be used to obtain deterministic quantitites. These are called as Monte Carlo methods."
   ]
  },
  {
   "cell_type": "code",
   "execution_count": 27,
   "metadata": {},
   "outputs": [
    {
     "name": "stdout",
     "output_type": "stream",
     "text": [
      "0.740187884360747\n",
      "(0.7468241328124271, 8.291413475940725e-15)\n"
     ]
    }
   ],
   "source": [
    "## Compute the integral of exp(-x^2) from 0 to 1\n",
    "\n",
    "import numpy as np;\n",
    "import random;\n",
    "\n",
    "# Evaluate integral of exp(-x^2) from 0 to 1\n",
    "N= 1000;\n",
    "f = 0;\n",
    "for k in range(N):\n",
    "    x = random.random();\n",
    "    f = f+np.exp(-x*x);\n",
    "f = f/N;\n",
    "\n",
    "print(f);\n",
    "\n",
    "import scipy.integrate as quad;\n",
    "print(quad.quad(lambda x: np.exp(-x*x),0,1))"
   ]
  },
  {
   "cell_type": "code",
   "execution_count": 26,
   "metadata": {},
   "outputs": [
    {
     "name": "stdout",
     "output_type": "stream",
     "text": [
      "1.7971117284649551\n",
      "(1.768288739021943, 3.738608272789434e-14)\n"
     ]
    }
   ],
   "source": [
    "## Compute the integral of exp(-x^2) from -2 to 3\n",
    "\n",
    "import numpy as np;\n",
    "import random;\n",
    "\n",
    "# Evaluate integral of exp(-x^2) from -2 to 3\n",
    "N= 1000;\n",
    "f = 0;\n",
    "a = -2;\n",
    "b = 3;\n",
    "L = b-a;\n",
    "for k in range(N):\n",
    "    x = a+L*random.random();\n",
    "    f = f+np.exp(-x*x);\n",
    "f = L*f/N;\n",
    "\n",
    "print(f);\n",
    "\n",
    "import scipy.integrate as quad;\n",
    "print(quad.quad(lambda x: np.exp(-x*x),a,b))"
   ]
  },
  {
   "cell_type": "code",
   "execution_count": 24,
   "metadata": {},
   "outputs": [
    {
     "name": "stdout",
     "output_type": "stream",
     "text": [
      "3.1416\n"
     ]
    }
   ],
   "source": [
    "## Estimation of pi\n",
    "import numpy as np;\n",
    "import random;\n",
    "\n",
    "N = 10000;\n",
    "count = 0;\n",
    "for k in range(N):\n",
    "    x = 2.0*random.random()-1.0;\n",
    "    y = 2.0*random.random()-1.0;\n",
    "    if (x**2+y**2 <=1):\n",
    "        count = count+1;\n",
    "print(4*count/N);"
   ]
  },
  {
   "cell_type": "markdown",
   "metadata": {},
   "source": [
    "## Estimating Probability function\n",
    "\n",
    "You enter a casino with $\\$100$ and play a game. You win $\\$1$ with a probability $1/4$, you lose $\\$1$ with a probability $3/4$. What is the probability mass function after you have played the game $100$ times?"
   ]
  },
  {
   "cell_type": "code",
   "execution_count": 16,
   "metadata": {},
   "outputs": [],
   "source": [
    "def outcome(p):\n",
    "    x = random.random();\n",
    "    if x<p:\n",
    "        return 1;\n",
    "    else:\n",
    "        return -1;\n",
    "\n",
    "def count_Probability(init_amount, ntries, p):\n",
    "    for i in range(0,ntries):\n",
    "        if (outcome(p)==1):\n",
    "            init_amount = init_amount+1;\n",
    "        else:\n",
    "            init_amount = init_amount-1;\n",
    "    return init_amount;\n",
    "\n",
    "def obtain_probability_mass_function(nhistogram,init_amount, ntries, p):\n",
    "    x = np.zeros(nhistogram);\n",
    "    for k in range(0,nhistogram):\n",
    "        x[k] = count_Probability(init_amount, ntries, p);\n",
    "    "
   ]
  },
  {
   "cell_type": "code",
   "execution_count": 22,
   "metadata": {},
   "outputs": [
    {
     "data": {
      "text/plain": [
       "50"
      ]
     },
     "execution_count": 22,
     "metadata": {},
     "output_type": "execute_result"
    }
   ],
   "source": [
    "count_Probability(100,100,0.25)"
   ]
  },
  {
   "cell_type": "code",
   "execution_count": null,
   "metadata": {},
   "outputs": [],
   "source": []
  }
 ],
 "metadata": {
  "kernelspec": {
   "display_name": "Python 3",
   "language": "python",
   "name": "python3"
  },
  "language_info": {
   "codemirror_mode": {
    "name": "ipython",
    "version": 3
   },
   "file_extension": ".py",
   "mimetype": "text/x-python",
   "name": "python",
   "nbconvert_exporter": "python",
   "pygments_lexer": "ipython3",
   "version": "3.6.5"
  }
 },
 "nbformat": 4,
 "nbformat_minor": 2
}
