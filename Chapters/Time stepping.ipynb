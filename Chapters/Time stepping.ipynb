{
 "cells": [
  {
   "cell_type": "code",
   "execution_count": 19,
   "metadata": {},
   "outputs": [
    {
     "data": {
      "image/png": "[encoded data removed]",
      "text/plain": [
       "<Figure size 432x288 with 1 Axes>"
      ]
     },
     "metadata": {
      "needs_background": "light"
     },
     "output_type": "display_data"
    }
   ],
   "source": [
    "import numpy as np;\n",
    "# Solve y'+0.5y = 0 with y(0) = 1 till solution decays to 1e-10;\n",
    "y_init = 1;\n",
    "t = [0];\n",
    "y = [y_init];\n",
    "tol = 1e-10;\n",
    "dt = 1;\n",
    "max_t = 100;\n",
    "while (abs(y[-1])>tol and t[-1]<max_t):\n",
    "    y_next = y[-1]-0.5*y[-1]*dt;\n",
    "    y.append(y_next);\n",
    "    t.append(t[-1]+dt);\n",
    "import matplotlib.pyplot as plt;\n",
    "plt.plot(t,y);\n",
    "plt.show();"
   ]
  },
  {
   "cell_type": "code",
   "execution_count": null,
   "metadata": {},
   "outputs": [],
   "source": [
    "# Solving the same with implicit Euler\n",
    "y_init = 1;\n",
    "t = [0];\n",
    "y = [y_init];\n",
    "tol = 1e-10;\n",
    "dt = 1;\n",
    "max_t = 100;\n",
    "while (abs(y[-1])>tol and t[-1]<max_t):\n",
    "    y_next = y[-1]-0.5*y[-1]*dt;\n",
    "    y.append(y_next);\n",
    "    t.append(t[-1]+dt);\n",
    "import matplotlib.pyplot as plt;\n",
    "plt.plot(t,y);\n",
    "plt.show();"
   ]
  },
  {
   "cell_type": "code",
   "execution_count": null,
   "metadata": {},
   "outputs": [],
   "source": [
    "pi = np.pi;\n",
    "A = [[0 1][-1/pi**2 0]];\n",
    "y = [[1 0]];\n",
    "max_t = 10;\n",
    "dt = 0.1;\n",
    "t\n",
    "while (t<max_t)"
   ]
  }
 ],
 "metadata": {
  "kernelspec": {
   "display_name": "Python 3",
   "language": "python",
   "name": "python3"
  },
  "language_info": {
   "codemirror_mode": {
    "name": "ipython",
    "version": 3
   },
   "file_extension": ".py",
   "mimetype": "text/x-python",
   "name": "python",
   "nbconvert_exporter": "python",
   "pygments_lexer": "ipython3",
   "version": "3.6.6"
  }
 },
 "nbformat": 4,
 "nbformat_minor": 2
}
